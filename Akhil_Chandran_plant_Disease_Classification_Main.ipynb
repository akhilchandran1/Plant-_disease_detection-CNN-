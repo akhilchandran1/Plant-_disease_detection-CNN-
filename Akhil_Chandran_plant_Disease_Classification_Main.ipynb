{
 "cells": [
  {
   "cell_type": "markdown",
   "metadata": {
    "id": "3EMeS2AZPqwf"
   },
   "source": [
    "# Reuse Model"
   ]
  },
  {
   "cell_type": "code",
   "execution_count": null,
   "metadata": {
    "id": "FuyQWhlqj-jz"
   },
   "outputs": [],
   "source": [
    "import numpy as np\n",
    "import pickle\n",
    "import cv2\n",
    "import os\n",
    "import matplotlib.pyplot as plt\n",
    "from os import listdir\n",
    "from sklearn.preprocessing import LabelBinarizer\n",
    "from keras.models import Sequential\n",
    "from keras.layers.normalization import BatchNormalization\n",
    "from keras.layers.convolutional import Conv2D\n",
    "from keras.layers.convolutional import MaxPooling2D\n",
    "from keras.layers.core import Activation, Flatten, Dropout, Dense\n",
    "from keras import backend as K\n",
    "from keras.preprocessing.image import ImageDataGenerator\n",
    "from keras.optimizers import Adam\n",
    "from keras.preprocessing import image\n",
    "from keras.preprocessing.image import img_to_array\n",
    "from sklearn.preprocessing import MultiLabelBinarizer\n",
    "from sklearn.model_selection import train_test_split"
   ]
  },
  {
   "cell_type": "code",
   "execution_count": null,
   "metadata": {
    "id": "1_BpNjfQmgHI"
   },
   "outputs": [],
   "source": [
    "# Load model\n",
    "#filename = 'plant_disease_classification_model.pkl'\n",
    "#model = pickle.load(open(filename, 'rb'))\n",
    "\n",
    "from keras.models import load_model\n",
    "\n",
    "model = load_model('Trained_files/apple/plant_disease_classification_model_apple.h5')\n",
    "\n",
    "# Load labels\n",
    "filename = 'Trained_files/apple/plant_disease_label_transform_apple.pkl'\n",
    "image_labels = pickle.load(open(filename, 'rb'))"
   ]
  },
  {
   "cell_type": "code",
   "execution_count": null,
   "metadata": {
    "id": "_WTErOo1jigq"
   },
   "outputs": [],
   "source": [
    "# Dimension of resized image\n",
    "IMAGE_RESIZE = tuple((256, 256))\n",
    "\n",
    "# converting images to array\n",
    "def convert_image_to_array(image_directory):\n",
    "    try:\n",
    "        image = cv2.imread(image_directory)\n",
    "        if image is not None:\n",
    "            image = cv2.resize(image, IMAGE_RESIZE)   \n",
    "            return img_to_array(image)\n",
    "        else:\n",
    "            return np.array([])\n",
    "    except Exception as e:\n",
    "        print(f\"Error : {e}\")\n",
    "        return None\n",
    "\n",
    "def predict_disease(image_path):\n",
    "    image_array = convert_image_to_array(image_path)\n",
    "    np_image = np.array(image_array, dtype=np.float16) / 225.0\n",
    "    np_image = np.expand_dims(np_image,0)\n",
    "    plt.imshow(plt.imread(image_path))\n",
    "    #result = model.predict_classes(np_image)\n",
    "    result=np.argmax(model.predict(np_image), axis=-1)\n",
    "    print((image_labels.classes_[result][0]))"
   ]
  },
  {
   "cell_type": "code",
   "execution_count": null,
   "metadata": {
    "colab": {
     "base_uri": "https://localhost:8080/",
     "height": 286
    },
    "id": "LXnqW4w3mkLA",
    "outputId": "7022dace-353f-4ee8-b51c-ea45ab7956ab"
   },
   "outputs": [],
   "source": [
    "predict_disease('Random_images/001.jpg')"
   ]
  },
  {
   "cell_type": "code",
   "execution_count": null,
   "metadata": {},
   "outputs": [],
   "source": [
    "#________________________________________________________________________"
   ]
  },
  {
   "cell_type": "code",
   "execution_count": 1,
   "metadata": {},
   "outputs": [
    {
     "name": "stdout",
     "output_type": "stream",
     "text": [
      " * Serving Flask app \"__main__\" (lazy loading)\n",
      " * Environment: production\n",
      "\u001b[31m   WARNING: This is a development server. Do not use it in a production deployment.\u001b[0m\n",
      "\u001b[2m   Use a production WSGI server instead.\u001b[0m\n",
      " * Debug mode: on\n"
     ]
    },
    {
     "name": "stderr",
     "output_type": "stream",
     "text": [
      " * Running on http://127.0.0.1:5000/ (Press CTRL+C to quit)\n",
      " * Restarting with stat\n"
     ]
    },
    {
     "ename": "SystemExit",
     "evalue": "1",
     "output_type": "error",
     "traceback": [
      "An exception has occurred, use %tb to see the full traceback.\n",
      "\u001b[0;31mSystemExit\u001b[0m\u001b[0;31m:\u001b[0m 1\n"
     ]
    },
    {
     "name": "stderr",
     "output_type": "stream",
     "text": [
      "/Applications/anaconda3/lib/python3.8/site-packages/IPython/core/interactiveshell.py:3426: UserWarning: To exit: use 'exit', 'quit', or Ctrl-D.\n",
      "  warn(\"To exit: use 'exit', 'quit', or Ctrl-D.\", stacklevel=1)\n"
     ]
    }
   ],
   "source": [
    "\n",
    "import cv2 \n",
    "from flask import Flask, render_template, Response, flash, request, redirect, url_for, render_template\n",
    "import urllib.request\n",
    "from werkzeug.utils import secure_filename\n",
    "from keras.models import Sequential\n",
    "import os\n",
    "import numpy as np\n",
    "import pickle\n",
    "from os import listdir\n",
    "import matplotlib.pyplot as plt\n",
    "from sklearn.preprocessing import LabelBinarizer\n",
    "from keras.models import Sequential\n",
    "from keras.layers.normalization import BatchNormalization\n",
    "from keras.layers.convolutional import Conv2D\n",
    "from keras.layers.convolutional import MaxPooling2D\n",
    "from keras.layers.core import Activation, Flatten, Dropout, Dense\n",
    "from keras import backend as K\n",
    "from keras.preprocessing.image import ImageDataGenerator\n",
    "from keras.optimizers import Adam\n",
    "from keras.preprocessing import image\n",
    "from keras.preprocessing.image import img_to_array\n",
    "from sklearn.preprocessing import MultiLabelBinarizer\n",
    "from sklearn.model_selection import train_test_split\n",
    "from keras.models import load_model\n",
    "\n",
    "app = Flask(__name__)\n",
    "\n",
    "UPLOAD_FOLDER = 'df_img/'\n",
    "model = load_model('Trained_files/1st_training/plant_disease_classification_model.h5')\n",
    "\n",
    "# Load labels\n",
    "filename = 'Trained_files/1st_training/plant_disease_label_transform.pkl'\n",
    "image_labels = pickle.load(open(filename, 'rb'))\n",
    "# Dimension of resized image\n",
    "IMAGE_RESIZE = tuple((224, 224))\n",
    " \n",
    "app.secret_key = \"secret key\"\n",
    "app.config['UPLOAD_FOLDER'] = UPLOAD_FOLDER\n",
    "app.config['MAX_CONTENT_LENGTH'] = 16 * 1024 * 1024\n",
    " \n",
    "ALLOWED_EXTENSIONS = set(['png', 'jpg', 'jpeg']) # specifing image formats that we accept.\n",
    "\n",
    "# create a method to check whether the uploaded file is aloowcated.\n",
    "def allowed_file(filename):\n",
    "    return '.' in filename and filename.rsplit('.', 1)[1].lower() in ALLOWED_EXTENSIONS\n",
    "\n",
    "def convert_image_to_array(image_dir):\n",
    "    try:\n",
    "        image = cv2.imread(image_dir)\n",
    "        if image is not None:\n",
    "            image = cv2.resize(image, IMAGE_RESIZE)   \n",
    "            return img_to_array(image)\n",
    "        else:\n",
    "            return np.array([])\n",
    "    except Exception as e:\n",
    "        print(f\"Error : {e}\")\n",
    "        return None   \n",
    "\n",
    "@app.route('/', methods=['GET'])\n",
    "def index():\n",
    "    return render_template('index.html')\n",
    "\n",
    "\n",
    "@app.route('/', methods=['POST'])\n",
    "def upload_image():\n",
    "    if 'file' not in request.files:\n",
    "        flash('No file part')\n",
    "        return redirect(request.url)\n",
    "    file = request.files['file']\n",
    "    if file.filename == '':\n",
    "        flash('No image selected for uploading')\n",
    "        return redirect(request.url)\n",
    "    if file and allowed_file(file.filename):\n",
    "        filename = secure_filename(file.filename)\n",
    "        filepath = os.path.join(app.config['UPLOAD_FOLDER'], filename)\n",
    "        file.save(filepath)\n",
    "        # image processing to predict \n",
    "        image_array = convert_image_to_array(filepath)\n",
    "        np_image = np.array(image_array, dtype=np.float16) / 225.0\n",
    "        np_image = np.expand_dims(np_image,0)\n",
    "        plt.imshow(plt.imread(filepath))\n",
    "        #result = model.predict_classes(np_image)\n",
    "        result=np.argmax(model.predict(np_image), axis=-1)\n",
    "        flash('Image successfully uploaded and displayed below')\n",
    "        flash((image_labels.classes_[result][0])) # flashing the disease\n",
    "        return render_template('index.html', filename=filename)\n",
    "    else:\n",
    "        flash('Allowed image types are - png, jpg, jpeg')\n",
    "        return redirect(request.url)\n",
    " \n",
    "@app.route('/display/<filename>')\n",
    "def display_image(filename):\n",
    "    print('display_image filename: ' + filename)\n",
    "    return redirect(url_for(filename ='df_img/' + filename), code=301)\n",
    " \n",
    "if __name__ == \"__main__\":\n",
    "    app.run(debug=True)\n"
   ]
  },
  {
   "cell_type": "code",
   "execution_count": null,
   "metadata": {},
   "outputs": [],
   "source": []
  },
  {
   "cell_type": "code",
   "execution_count": null,
   "metadata": {},
   "outputs": [],
   "source": []
  }
 ],
 "metadata": {
  "accelerator": "TPU",
  "colab": {
   "collapsed_sections": [],
   "name": "Plant Disease Classification.ipynb",
   "provenance": []
  },
  "kernelspec": {
   "display_name": "Python 3",
   "language": "python",
   "name": "python3"
  },
  "language_info": {
   "codemirror_mode": {
    "name": "ipython",
    "version": 3
   },
   "file_extension": ".py",
   "mimetype": "text/x-python",
   "name": "python",
   "nbconvert_exporter": "python",
   "pygments_lexer": "ipython3",
   "version": "3.8.5"
  }
 },
 "nbformat": 4,
 "nbformat_minor": 1
}
